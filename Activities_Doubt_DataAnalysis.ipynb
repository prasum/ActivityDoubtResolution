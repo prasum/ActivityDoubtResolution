{
  "nbformat": 4,
  "nbformat_minor": 0,
  "metadata": {
    "colab": {
      "name": "Activities_Doubt_DataAnalysis.ipynb",
      "provenance": [],
      "collapsed_sections": [],
      "authorship_tag": "ABX9TyN7OF6wCVdsUANVjYhBTMkJ",
      "include_colab_link": true
    },
    "kernelspec": {
      "name": "python3",
      "display_name": "Python 3"
    }
  },
  "cells": [
    {
      "cell_type": "markdown",
      "metadata": {
        "id": "view-in-github",
        "colab_type": "text"
      },
      "source": [
        "<a href=\"https://colab.research.google.com/github/prasum/ActivityDoubtResolution/blob/master/Activities_Doubt_DataAnalysis.ipynb\" target=\"_parent\"><img src=\"https://colab.research.google.com/assets/colab-badge.svg\" alt=\"Open In Colab\"/></a>"
      ]
    },
    {
      "cell_type": "code",
      "metadata": {
        "id": "P0tthx9mwtxg",
        "colab_type": "code",
        "colab": {}
      },
      "source": [
        "import pandas as pd"
      ],
      "execution_count": 0,
      "outputs": []
    },
    {
      "cell_type": "code",
      "metadata": {
        "id": "JVH_nk37xpEU",
        "colab_type": "code",
        "colab": {}
      },
      "source": [
        "act_doubt_df=pd.read_csv(\"act_doubt_df.csv\")"
      ],
      "execution_count": 0,
      "outputs": []
    },
    {
      "cell_type": "markdown",
      "metadata": {
        "id": "uDB-ClH7vMFR",
        "colab_type": "text"
      },
      "source": [
        "Converting datetime string into Python datetime object and removing the UTC by localizing the Timezone to None. Getting the Doubt resolution time in hours by difference of doubt creation date from date of resolve of the doubt. Also some values are missing under columns and new columns introduced. So to handle them the column value is converted to Int64 type."
      ]
    },
    {
      "cell_type": "code",
      "metadata": {
        "id": "nK97l9xV2UZ7",
        "colab_type": "code",
        "colab": {}
      },
      "source": [
        "act_doubt_df['doubt_resolve_time']=pd.to_datetime(act_doubt_df['doubt_resolve_time']).dt.tz_localize(None)"
      ],
      "execution_count": 0,
      "outputs": []
    },
    {
      "cell_type": "code",
      "metadata": {
        "id": "puaBWwYq3BX-",
        "colab_type": "code",
        "colab": {}
      },
      "source": [
        "act_doubt_df['doubt_creation_time']=pd.to_datetime(act_doubt_df['doubt_creation_time']).dt.tz_localize(None)"
      ],
      "execution_count": 0,
      "outputs": []
    },
    {
      "cell_type": "code",
      "metadata": {
        "id": "uDcU9h-wx0as",
        "colab_type": "code",
        "colab": {}
      },
      "source": [
        "act_doubt_df[\"resolution_time\"]=(act_doubt_df.doubt_resolve_time-act_doubt_df.doubt_creation_time).astype('timedelta64[h]')"
      ],
      "execution_count": 0,
      "outputs": []
    },
    {
      "cell_type": "code",
      "metadata": {
        "id": "Xcaswifr0IUw",
        "colab_type": "code",
        "outputId": "64fec1c6-4e76-48a2-ba8b-cf15503edb69",
        "colab": {
          "base_uri": "https://localhost:8080/",
          "height": 292
        }
      },
      "source": [
        "act_doubt_df.head()"
      ],
      "execution_count": 0,
      "outputs": [
        {
          "output_type": "execute_result",
          "data": {
            "text/html": [
              "<div>\n",
              "<style scoped>\n",
              "    .dataframe tbody tr th:only-of-type {\n",
              "        vertical-align: middle;\n",
              "    }\n",
              "\n",
              "    .dataframe tbody tr th {\n",
              "        vertical-align: top;\n",
              "    }\n",
              "\n",
              "    .dataframe thead th {\n",
              "        text-align: right;\n",
              "    }\n",
              "</style>\n",
              "<table border=\"1\" class=\"dataframe\">\n",
              "  <thead>\n",
              "    <tr style=\"text-align: right;\">\n",
              "      <th></th>\n",
              "      <th>doubt_id</th>\n",
              "      <th>TA_ID</th>\n",
              "      <th>TA_Count</th>\n",
              "      <th>doubt_resolve_time</th>\n",
              "      <th>user_type</th>\n",
              "      <th>student_id</th>\n",
              "      <th>course_id</th>\n",
              "      <th>doubt_creation_time</th>\n",
              "      <th>content_type</th>\n",
              "      <th>user_rating</th>\n",
              "      <th>state</th>\n",
              "      <th>resolution_time</th>\n",
              "    </tr>\n",
              "  </thead>\n",
              "  <tbody>\n",
              "    <tr>\n",
              "      <th>0</th>\n",
              "      <td>248188</td>\n",
              "      <td>34120.0</td>\n",
              "      <td>3.0</td>\n",
              "      <td>2020-01-01 13:57:16</td>\n",
              "      <td>Student</td>\n",
              "      <td>280541</td>\n",
              "      <td>10</td>\n",
              "      <td>2020-01-01 00:58:22</td>\n",
              "      <td>Code Problem</td>\n",
              "      <td>5.0</td>\n",
              "      <td>resolved</td>\n",
              "      <td>12.0</td>\n",
              "    </tr>\n",
              "    <tr>\n",
              "      <th>1</th>\n",
              "      <td>248189</td>\n",
              "      <td>156881.0</td>\n",
              "      <td>1.0</td>\n",
              "      <td>2020-01-01 12:57:32</td>\n",
              "      <td>Student</td>\n",
              "      <td>32227</td>\n",
              "      <td>12</td>\n",
              "      <td>2020-01-01 02:02:21</td>\n",
              "      <td>Multiple Problem</td>\n",
              "      <td>5.0</td>\n",
              "      <td>resolved</td>\n",
              "      <td>10.0</td>\n",
              "    </tr>\n",
              "    <tr>\n",
              "      <th>2</th>\n",
              "      <td>248190</td>\n",
              "      <td>165368.0</td>\n",
              "      <td>1.0</td>\n",
              "      <td>2020-01-01 05:07:36</td>\n",
              "      <td>Student</td>\n",
              "      <td>357687</td>\n",
              "      <td>1</td>\n",
              "      <td>2020-01-01 02:14:37</td>\n",
              "      <td>Single_choice Problem</td>\n",
              "      <td>5.0</td>\n",
              "      <td>resolved</td>\n",
              "      <td>2.0</td>\n",
              "    </tr>\n",
              "    <tr>\n",
              "      <th>3</th>\n",
              "      <td>248191</td>\n",
              "      <td>208720.0</td>\n",
              "      <td>3.0</td>\n",
              "      <td>2020-01-02 14:39:49</td>\n",
              "      <td>Student</td>\n",
              "      <td>486150</td>\n",
              "      <td>11</td>\n",
              "      <td>2020-01-01 02:15:15</td>\n",
              "      <td>No_submission Problem</td>\n",
              "      <td>4.0</td>\n",
              "      <td>resolved</td>\n",
              "      <td>36.0</td>\n",
              "    </tr>\n",
              "    <tr>\n",
              "      <th>4</th>\n",
              "      <td>248192</td>\n",
              "      <td>163412.0</td>\n",
              "      <td>4.0</td>\n",
              "      <td>2020-01-02 13:05:58</td>\n",
              "      <td>Student</td>\n",
              "      <td>367920</td>\n",
              "      <td>13</td>\n",
              "      <td>2020-01-01 03:16:19</td>\n",
              "      <td>Datascience Problem</td>\n",
              "      <td>5.0</td>\n",
              "      <td>resolved</td>\n",
              "      <td>33.0</td>\n",
              "    </tr>\n",
              "  </tbody>\n",
              "</table>\n",
              "</div>"
            ],
            "text/plain": [
              "   doubt_id     TA_ID  TA_Count  ... user_rating     state  resolution_time\n",
              "0    248188   34120.0       3.0  ...         5.0  resolved             12.0\n",
              "1    248189  156881.0       1.0  ...         5.0  resolved             10.0\n",
              "2    248190  165368.0       1.0  ...         5.0  resolved              2.0\n",
              "3    248191  208720.0       3.0  ...         4.0  resolved             36.0\n",
              "4    248192  163412.0       4.0  ...         5.0  resolved             33.0\n",
              "\n",
              "[5 rows x 12 columns]"
            ]
          },
          "metadata": {
            "tags": []
          },
          "execution_count": 105
        }
      ]
    },
    {
      "cell_type": "code",
      "metadata": {
        "id": "H3Njy-rV5B2l",
        "colab_type": "code",
        "colab": {}
      },
      "source": [
        "act_doubt_df['resolution_time']=act_doubt_df['resolution_time'].astype('Int64')\n",
        "act_doubt_df['TA_Count']=act_doubt_df['TA_Count'].astype('Int64')"
      ],
      "execution_count": 0,
      "outputs": []
    },
    {
      "cell_type": "code",
      "metadata": {
        "id": "XCOOdLMA4vCB",
        "colab_type": "code",
        "outputId": "67eb75c8-4e4b-49c0-bc1b-d52cc7a5dea7",
        "colab": {
          "base_uri": "https://localhost:8080/",
          "height": 292
        }
      },
      "source": [
        "act_doubt_df.head()"
      ],
      "execution_count": 0,
      "outputs": [
        {
          "output_type": "execute_result",
          "data": {
            "text/html": [
              "<div>\n",
              "<style scoped>\n",
              "    .dataframe tbody tr th:only-of-type {\n",
              "        vertical-align: middle;\n",
              "    }\n",
              "\n",
              "    .dataframe tbody tr th {\n",
              "        vertical-align: top;\n",
              "    }\n",
              "\n",
              "    .dataframe thead th {\n",
              "        text-align: right;\n",
              "    }\n",
              "</style>\n",
              "<table border=\"1\" class=\"dataframe\">\n",
              "  <thead>\n",
              "    <tr style=\"text-align: right;\">\n",
              "      <th></th>\n",
              "      <th>doubt_id</th>\n",
              "      <th>TA_ID</th>\n",
              "      <th>TA_Count</th>\n",
              "      <th>doubt_resolve_time</th>\n",
              "      <th>user_type</th>\n",
              "      <th>student_id</th>\n",
              "      <th>course_id</th>\n",
              "      <th>doubt_creation_time</th>\n",
              "      <th>content_type</th>\n",
              "      <th>user_rating</th>\n",
              "      <th>state</th>\n",
              "      <th>resolution_time</th>\n",
              "    </tr>\n",
              "  </thead>\n",
              "  <tbody>\n",
              "    <tr>\n",
              "      <th>0</th>\n",
              "      <td>248188</td>\n",
              "      <td>34120.0</td>\n",
              "      <td>3</td>\n",
              "      <td>2020-01-01 13:57:16</td>\n",
              "      <td>Student</td>\n",
              "      <td>280541</td>\n",
              "      <td>10</td>\n",
              "      <td>2020-01-01 00:58:22</td>\n",
              "      <td>Code Problem</td>\n",
              "      <td>5.0</td>\n",
              "      <td>resolved</td>\n",
              "      <td>12</td>\n",
              "    </tr>\n",
              "    <tr>\n",
              "      <th>1</th>\n",
              "      <td>248189</td>\n",
              "      <td>156881.0</td>\n",
              "      <td>1</td>\n",
              "      <td>2020-01-01 12:57:32</td>\n",
              "      <td>Student</td>\n",
              "      <td>32227</td>\n",
              "      <td>12</td>\n",
              "      <td>2020-01-01 02:02:21</td>\n",
              "      <td>Multiple Problem</td>\n",
              "      <td>5.0</td>\n",
              "      <td>resolved</td>\n",
              "      <td>10</td>\n",
              "    </tr>\n",
              "    <tr>\n",
              "      <th>2</th>\n",
              "      <td>248190</td>\n",
              "      <td>165368.0</td>\n",
              "      <td>1</td>\n",
              "      <td>2020-01-01 05:07:36</td>\n",
              "      <td>Student</td>\n",
              "      <td>357687</td>\n",
              "      <td>1</td>\n",
              "      <td>2020-01-01 02:14:37</td>\n",
              "      <td>Single_choice Problem</td>\n",
              "      <td>5.0</td>\n",
              "      <td>resolved</td>\n",
              "      <td>2</td>\n",
              "    </tr>\n",
              "    <tr>\n",
              "      <th>3</th>\n",
              "      <td>248191</td>\n",
              "      <td>208720.0</td>\n",
              "      <td>3</td>\n",
              "      <td>2020-01-02 14:39:49</td>\n",
              "      <td>Student</td>\n",
              "      <td>486150</td>\n",
              "      <td>11</td>\n",
              "      <td>2020-01-01 02:15:15</td>\n",
              "      <td>No_submission Problem</td>\n",
              "      <td>4.0</td>\n",
              "      <td>resolved</td>\n",
              "      <td>36</td>\n",
              "    </tr>\n",
              "    <tr>\n",
              "      <th>4</th>\n",
              "      <td>248192</td>\n",
              "      <td>163412.0</td>\n",
              "      <td>4</td>\n",
              "      <td>2020-01-02 13:05:58</td>\n",
              "      <td>Student</td>\n",
              "      <td>367920</td>\n",
              "      <td>13</td>\n",
              "      <td>2020-01-01 03:16:19</td>\n",
              "      <td>Datascience Problem</td>\n",
              "      <td>5.0</td>\n",
              "      <td>resolved</td>\n",
              "      <td>33</td>\n",
              "    </tr>\n",
              "  </tbody>\n",
              "</table>\n",
              "</div>"
            ],
            "text/plain": [
              "   doubt_id     TA_ID  TA_Count  ... user_rating     state  resolution_time\n",
              "0    248188   34120.0         3  ...         5.0  resolved               12\n",
              "1    248189  156881.0         1  ...         5.0  resolved               10\n",
              "2    248190  165368.0         1  ...         5.0  resolved                2\n",
              "3    248191  208720.0         3  ...         4.0  resolved               36\n",
              "4    248192  163412.0         4  ...         5.0  resolved               33\n",
              "\n",
              "[5 rows x 12 columns]"
            ]
          },
          "metadata": {
            "tags": []
          },
          "execution_count": 107
        }
      ]
    },
    {
      "cell_type": "markdown",
      "metadata": {
        "id": "wDDFsrtS5awX",
        "colab_type": "text"
      },
      "source": [
        "From the above data we can infer that when the number of instructors who have worked on the problem increase, the resolution time (in hrs) increases. This corresponds to the number of times the doubt state was changed from assigned to available then review resolution and resolved by the student. The resolution time also depends on the content type of the problem if it is either Code Problem or Multiple Problem then the resolution time in hours is more"
      ]
    },
    {
      "cell_type": "code",
      "metadata": {
        "id": "uiL2fCfe6DQk",
        "colab_type": "code",
        "outputId": "7299f3c7-da91-4bc2-cfd3-b9f742c0d2ae",
        "colab": {
          "base_uri": "https://localhost:8080/",
          "height": 292
        }
      },
      "source": [
        "act_doubt_df['user_rating']=act_doubt_df['user_rating'].astype('Int64')\n",
        "act_doubt_df['TA_ID']=act_doubt_df['TA_ID'].astype('Int64')\n",
        "act_doubt_df.head()"
      ],
      "execution_count": 0,
      "outputs": [
        {
          "output_type": "execute_result",
          "data": {
            "text/html": [
              "<div>\n",
              "<style scoped>\n",
              "    .dataframe tbody tr th:only-of-type {\n",
              "        vertical-align: middle;\n",
              "    }\n",
              "\n",
              "    .dataframe tbody tr th {\n",
              "        vertical-align: top;\n",
              "    }\n",
              "\n",
              "    .dataframe thead th {\n",
              "        text-align: right;\n",
              "    }\n",
              "</style>\n",
              "<table border=\"1\" class=\"dataframe\">\n",
              "  <thead>\n",
              "    <tr style=\"text-align: right;\">\n",
              "      <th></th>\n",
              "      <th>doubt_id</th>\n",
              "      <th>TA_ID</th>\n",
              "      <th>TA_Count</th>\n",
              "      <th>doubt_resolve_time</th>\n",
              "      <th>user_type</th>\n",
              "      <th>student_id</th>\n",
              "      <th>course_id</th>\n",
              "      <th>doubt_creation_time</th>\n",
              "      <th>content_type</th>\n",
              "      <th>user_rating</th>\n",
              "      <th>state</th>\n",
              "      <th>resolution_time</th>\n",
              "    </tr>\n",
              "  </thead>\n",
              "  <tbody>\n",
              "    <tr>\n",
              "      <th>0</th>\n",
              "      <td>248188</td>\n",
              "      <td>34120</td>\n",
              "      <td>3</td>\n",
              "      <td>2020-01-01 13:57:16</td>\n",
              "      <td>Student</td>\n",
              "      <td>280541</td>\n",
              "      <td>10</td>\n",
              "      <td>2020-01-01 00:58:22</td>\n",
              "      <td>Code Problem</td>\n",
              "      <td>5</td>\n",
              "      <td>resolved</td>\n",
              "      <td>12</td>\n",
              "    </tr>\n",
              "    <tr>\n",
              "      <th>1</th>\n",
              "      <td>248189</td>\n",
              "      <td>156881</td>\n",
              "      <td>1</td>\n",
              "      <td>2020-01-01 12:57:32</td>\n",
              "      <td>Student</td>\n",
              "      <td>32227</td>\n",
              "      <td>12</td>\n",
              "      <td>2020-01-01 02:02:21</td>\n",
              "      <td>Multiple Problem</td>\n",
              "      <td>5</td>\n",
              "      <td>resolved</td>\n",
              "      <td>10</td>\n",
              "    </tr>\n",
              "    <tr>\n",
              "      <th>2</th>\n",
              "      <td>248190</td>\n",
              "      <td>165368</td>\n",
              "      <td>1</td>\n",
              "      <td>2020-01-01 05:07:36</td>\n",
              "      <td>Student</td>\n",
              "      <td>357687</td>\n",
              "      <td>1</td>\n",
              "      <td>2020-01-01 02:14:37</td>\n",
              "      <td>Single_choice Problem</td>\n",
              "      <td>5</td>\n",
              "      <td>resolved</td>\n",
              "      <td>2</td>\n",
              "    </tr>\n",
              "    <tr>\n",
              "      <th>3</th>\n",
              "      <td>248191</td>\n",
              "      <td>208720</td>\n",
              "      <td>3</td>\n",
              "      <td>2020-01-02 14:39:49</td>\n",
              "      <td>Student</td>\n",
              "      <td>486150</td>\n",
              "      <td>11</td>\n",
              "      <td>2020-01-01 02:15:15</td>\n",
              "      <td>No_submission Problem</td>\n",
              "      <td>4</td>\n",
              "      <td>resolved</td>\n",
              "      <td>36</td>\n",
              "    </tr>\n",
              "    <tr>\n",
              "      <th>4</th>\n",
              "      <td>248192</td>\n",
              "      <td>163412</td>\n",
              "      <td>4</td>\n",
              "      <td>2020-01-02 13:05:58</td>\n",
              "      <td>Student</td>\n",
              "      <td>367920</td>\n",
              "      <td>13</td>\n",
              "      <td>2020-01-01 03:16:19</td>\n",
              "      <td>Datascience Problem</td>\n",
              "      <td>5</td>\n",
              "      <td>resolved</td>\n",
              "      <td>33</td>\n",
              "    </tr>\n",
              "  </tbody>\n",
              "</table>\n",
              "</div>"
            ],
            "text/plain": [
              "   doubt_id   TA_ID  TA_Count  ... user_rating     state  resolution_time\n",
              "0    248188   34120         3  ...           5  resolved               12\n",
              "1    248189  156881         1  ...           5  resolved               10\n",
              "2    248190  165368         1  ...           5  resolved                2\n",
              "3    248191  208720         3  ...           4  resolved               36\n",
              "4    248192  163412         4  ...           5  resolved               33\n",
              "\n",
              "[5 rows x 12 columns]"
            ]
          },
          "metadata": {
            "tags": []
          },
          "execution_count": 108
        }
      ]
    },
    {
      "cell_type": "code",
      "metadata": {
        "id": "b_qTUJRZ66gp",
        "colab_type": "code",
        "outputId": "baf758e8-f427-4b59-d5d4-1e3751ff44bb",
        "colab": {
          "base_uri": "https://localhost:8080/",
          "height": 34
        }
      },
      "source": [
        "act_doubt_df['resolution_time'].astype('float64').corr(act_doubt_df['user_rating'].astype('float64'))"
      ],
      "execution_count": 0,
      "outputs": [
        {
          "output_type": "execute_result",
          "data": {
            "text/plain": [
              "-0.12503283208724875"
            ]
          },
          "metadata": {
            "tags": []
          },
          "execution_count": 109
        }
      ]
    },
    {
      "cell_type": "markdown",
      "metadata": {
        "id": "8e4dp8z_8iPp",
        "colab_type": "text"
      },
      "source": [
        "We observe that the correlation between resolution_time and user_rating is negative. It can be inferred that if the resolution time is high then the user rating would be low and if the user rating is high then the resolution time would be low. Thus, here we obtain an inverse relationship of resolution_time with respect to the user_rating."
      ]
    },
    {
      "cell_type": "code",
      "metadata": {
        "id": "3uwjp8va9Icq",
        "colab_type": "code",
        "colab": {}
      },
      "source": [
        "act_doubt_df.to_csv(\"activities_doubt_with_resolution_time.csv\",index=False)"
      ],
      "execution_count": 0,
      "outputs": []
    },
    {
      "cell_type": "markdown",
      "metadata": {
        "id": "c_LxDUElxQn1",
        "colab_type": "text"
      },
      "source": [
        "Getting the count of doubts solved by each TA. Here NaN values are ignored."
      ]
    },
    {
      "cell_type": "code",
      "metadata": {
        "id": "V0f-5_pG9hV4",
        "colab_type": "code",
        "colab": {}
      },
      "source": [
        "grouped_data=act_doubt_df.groupby('TA_ID')['doubt_id'].count().reset_index(name=\"No_Of_Doubts_Solved\")"
      ],
      "execution_count": 0,
      "outputs": []
    },
    {
      "cell_type": "code",
      "metadata": {
        "id": "8Je_XCaM986j",
        "colab_type": "code",
        "outputId": "4d739ad2-1c62-4dc3-96f9-6030a27d448c",
        "colab": {
          "base_uri": "https://localhost:8080/",
          "height": 359
        }
      },
      "source": [
        "grouped_data.head(10)"
      ],
      "execution_count": 0,
      "outputs": [
        {
          "output_type": "execute_result",
          "data": {
            "text/html": [
              "<div>\n",
              "<style scoped>\n",
              "    .dataframe tbody tr th:only-of-type {\n",
              "        vertical-align: middle;\n",
              "    }\n",
              "\n",
              "    .dataframe tbody tr th {\n",
              "        vertical-align: top;\n",
              "    }\n",
              "\n",
              "    .dataframe thead th {\n",
              "        text-align: right;\n",
              "    }\n",
              "</style>\n",
              "<table border=\"1\" class=\"dataframe\">\n",
              "  <thead>\n",
              "    <tr style=\"text-align: right;\">\n",
              "      <th></th>\n",
              "      <th>TA_ID</th>\n",
              "      <th>No_Of_Doubts_Solved</th>\n",
              "    </tr>\n",
              "  </thead>\n",
              "  <tbody>\n",
              "    <tr>\n",
              "      <th>0</th>\n",
              "      <td>47</td>\n",
              "      <td>1</td>\n",
              "    </tr>\n",
              "    <tr>\n",
              "      <th>1</th>\n",
              "      <td>1940</td>\n",
              "      <td>26</td>\n",
              "    </tr>\n",
              "    <tr>\n",
              "      <th>2</th>\n",
              "      <td>6974</td>\n",
              "      <td>1</td>\n",
              "    </tr>\n",
              "    <tr>\n",
              "      <th>3</th>\n",
              "      <td>8709</td>\n",
              "      <td>26</td>\n",
              "    </tr>\n",
              "    <tr>\n",
              "      <th>4</th>\n",
              "      <td>10064</td>\n",
              "      <td>16</td>\n",
              "    </tr>\n",
              "    <tr>\n",
              "      <th>5</th>\n",
              "      <td>11519</td>\n",
              "      <td>8</td>\n",
              "    </tr>\n",
              "    <tr>\n",
              "      <th>6</th>\n",
              "      <td>12586</td>\n",
              "      <td>4</td>\n",
              "    </tr>\n",
              "    <tr>\n",
              "      <th>7</th>\n",
              "      <td>13430</td>\n",
              "      <td>8</td>\n",
              "    </tr>\n",
              "    <tr>\n",
              "      <th>8</th>\n",
              "      <td>13443</td>\n",
              "      <td>168</td>\n",
              "    </tr>\n",
              "    <tr>\n",
              "      <th>9</th>\n",
              "      <td>14491</td>\n",
              "      <td>61</td>\n",
              "    </tr>\n",
              "  </tbody>\n",
              "</table>\n",
              "</div>"
            ],
            "text/plain": [
              "   TA_ID  No_Of_Doubts_Solved\n",
              "0     47                    1\n",
              "1   1940                   26\n",
              "2   6974                    1\n",
              "3   8709                   26\n",
              "4  10064                   16\n",
              "5  11519                    8\n",
              "6  12586                    4\n",
              "7  13430                    8\n",
              "8  13443                  168\n",
              "9  14491                   61"
            ]
          },
          "metadata": {
            "tags": []
          },
          "execution_count": 112
        }
      ]
    },
    {
      "cell_type": "code",
      "metadata": {
        "id": "3MAF6nol-FdM",
        "colab_type": "code",
        "colab": {}
      },
      "source": [
        "grouped_data.to_csv(\"TA_Doubts_Count.csv\",index=False)"
      ],
      "execution_count": 0,
      "outputs": []
    },
    {
      "cell_type": "markdown",
      "metadata": {
        "id": "aC-XjDttx4le",
        "colab_type": "text"
      },
      "source": [
        "Getting the Total resolution time for each course id. The performance is compared in the next section by using bar plots."
      ]
    },
    {
      "cell_type": "code",
      "metadata": {
        "id": "utRrTupr_z-i",
        "colab_type": "code",
        "colab": {}
      },
      "source": [
        "course_resolution_time_grouped=act_doubt_df.groupby('course_id')['resolution_time'].sum().reset_index(name=\"Total_Resolution_time_per_Course\")"
      ],
      "execution_count": 0,
      "outputs": []
    },
    {
      "cell_type": "code",
      "metadata": {
        "id": "0YN8iMYDA7Nq",
        "colab_type": "code",
        "outputId": "47c982c8-f482-405d-cd73-22de6588358c",
        "colab": {
          "base_uri": "https://localhost:8080/",
          "height": 359
        }
      },
      "source": [
        "course_resolution_time_grouped.head(10)"
      ],
      "execution_count": 0,
      "outputs": [
        {
          "output_type": "execute_result",
          "data": {
            "text/html": [
              "<div>\n",
              "<style scoped>\n",
              "    .dataframe tbody tr th:only-of-type {\n",
              "        vertical-align: middle;\n",
              "    }\n",
              "\n",
              "    .dataframe tbody tr th {\n",
              "        vertical-align: top;\n",
              "    }\n",
              "\n",
              "    .dataframe thead th {\n",
              "        text-align: right;\n",
              "    }\n",
              "</style>\n",
              "<table border=\"1\" class=\"dataframe\">\n",
              "  <thead>\n",
              "    <tr style=\"text-align: right;\">\n",
              "      <th></th>\n",
              "      <th>course_id</th>\n",
              "      <th>Total_Resolution_time_per_Course</th>\n",
              "    </tr>\n",
              "  </thead>\n",
              "  <tbody>\n",
              "    <tr>\n",
              "      <th>0</th>\n",
              "      <td>1</td>\n",
              "      <td>53027</td>\n",
              "    </tr>\n",
              "    <tr>\n",
              "      <th>1</th>\n",
              "      <td>2</td>\n",
              "      <td>17578</td>\n",
              "    </tr>\n",
              "    <tr>\n",
              "      <th>2</th>\n",
              "      <td>4</td>\n",
              "      <td>5356</td>\n",
              "    </tr>\n",
              "    <tr>\n",
              "      <th>3</th>\n",
              "      <td>6</td>\n",
              "      <td>2934</td>\n",
              "    </tr>\n",
              "    <tr>\n",
              "      <th>4</th>\n",
              "      <td>10</td>\n",
              "      <td>43431</td>\n",
              "    </tr>\n",
              "    <tr>\n",
              "      <th>5</th>\n",
              "      <td>11</td>\n",
              "      <td>16505</td>\n",
              "    </tr>\n",
              "    <tr>\n",
              "      <th>6</th>\n",
              "      <td>12</td>\n",
              "      <td>4519</td>\n",
              "    </tr>\n",
              "    <tr>\n",
              "      <th>7</th>\n",
              "      <td>13</td>\n",
              "      <td>16546</td>\n",
              "    </tr>\n",
              "    <tr>\n",
              "      <th>8</th>\n",
              "      <td>21</td>\n",
              "      <td>1366</td>\n",
              "    </tr>\n",
              "    <tr>\n",
              "      <th>9</th>\n",
              "      <td>23</td>\n",
              "      <td>1163</td>\n",
              "    </tr>\n",
              "  </tbody>\n",
              "</table>\n",
              "</div>"
            ],
            "text/plain": [
              "   course_id  Total_Resolution_time_per_Course\n",
              "0          1                             53027\n",
              "1          2                             17578\n",
              "2          4                              5356\n",
              "3          6                              2934\n",
              "4         10                             43431\n",
              "5         11                             16505\n",
              "6         12                              4519\n",
              "7         13                             16546\n",
              "8         21                              1366\n",
              "9         23                              1163"
            ]
          },
          "metadata": {
            "tags": []
          },
          "execution_count": 115
        }
      ]
    },
    {
      "cell_type": "code",
      "metadata": {
        "id": "MCHxNIJIxkaG",
        "colab_type": "code",
        "colab": {}
      },
      "source": [
        "course_resolution_time_grouped.to_csv(\"Course_Resolution_Time.csv\",index=False)"
      ],
      "execution_count": 0,
      "outputs": []
    },
    {
      "cell_type": "markdown",
      "metadata": {
        "id": "aBOyLKyVyEqP",
        "colab_type": "text"
      },
      "source": [
        "Using seaborn library for visualization of the performance of course ids by total resolution time through bar plot."
      ]
    },
    {
      "cell_type": "code",
      "metadata": {
        "id": "cxF-jAuFUUaI",
        "colab_type": "code",
        "outputId": "b1b21191-a665-4f9d-a29d-6a594e6acbd6",
        "colab": {
          "base_uri": "https://localhost:8080/",
          "height": 224
        }
      },
      "source": [
        "!pip install seaborn"
      ],
      "execution_count": 0,
      "outputs": [
        {
          "output_type": "stream",
          "text": [
            "Requirement already satisfied: seaborn in /usr/local/lib/python3.6/dist-packages (0.10.1)\n",
            "Requirement already satisfied: matplotlib>=2.1.2 in /usr/local/lib/python3.6/dist-packages (from seaborn) (3.2.1)\n",
            "Requirement already satisfied: numpy>=1.13.3 in /usr/local/lib/python3.6/dist-packages (from seaborn) (1.18.4)\n",
            "Requirement already satisfied: scipy>=1.0.1 in /usr/local/lib/python3.6/dist-packages (from seaborn) (1.4.1)\n",
            "Requirement already satisfied: pandas>=0.22.0 in /usr/local/lib/python3.6/dist-packages (from seaborn) (1.0.3)\n",
            "Requirement already satisfied: cycler>=0.10 in /usr/local/lib/python3.6/dist-packages (from matplotlib>=2.1.2->seaborn) (0.10.0)\n",
            "Requirement already satisfied: kiwisolver>=1.0.1 in /usr/local/lib/python3.6/dist-packages (from matplotlib>=2.1.2->seaborn) (1.2.0)\n",
            "Requirement already satisfied: python-dateutil>=2.1 in /usr/local/lib/python3.6/dist-packages (from matplotlib>=2.1.2->seaborn) (2.8.1)\n",
            "Requirement already satisfied: pyparsing!=2.0.4,!=2.1.2,!=2.1.6,>=2.0.1 in /usr/local/lib/python3.6/dist-packages (from matplotlib>=2.1.2->seaborn) (2.4.7)\n",
            "Requirement already satisfied: pytz>=2017.2 in /usr/local/lib/python3.6/dist-packages (from pandas>=0.22.0->seaborn) (2018.9)\n",
            "Requirement already satisfied: six in /usr/local/lib/python3.6/dist-packages (from cycler>=0.10->matplotlib>=2.1.2->seaborn) (1.12.0)\n"
          ],
          "name": "stdout"
        }
      ]
    },
    {
      "cell_type": "code",
      "metadata": {
        "id": "D16Bu7HBUaXB",
        "colab_type": "code",
        "colab": {}
      },
      "source": [
        "import seaborn as sns\n",
        "sns.set()"
      ],
      "execution_count": 0,
      "outputs": []
    },
    {
      "cell_type": "code",
      "metadata": {
        "id": "1KEDvA8NUfgv",
        "colab_type": "code",
        "outputId": "53732593-5f00-4f03-fa83-54f109074d53",
        "colab": {
          "base_uri": "https://localhost:8080/",
          "height": 302
        }
      },
      "source": [
        "sns.barplot(x='course_id',y='Total_Resolution_time_per_Course',data=course_resolution_time_grouped)"
      ],
      "execution_count": 0,
      "outputs": [
        {
          "output_type": "execute_result",
          "data": {
            "text/plain": [
              "<matplotlib.axes._subplots.AxesSubplot at 0x7fe50186c278>"
            ]
          },
          "metadata": {
            "tags": []
          },
          "execution_count": 118
        },
        {
          "output_type": "display_data",
          "data": {
            "image/png": "[encoded data removed]",
            "text/plain": [
              "<Figure size 432x288 with 1 Axes>"
            ]
          },
          "metadata": {
            "tags": []
          }
        }
      ]
    },
    {
      "cell_type": "markdown",
      "metadata": {
        "id": "C711G2M5XGEU",
        "colab_type": "text"
      },
      "source": [
        "From the above barplot between the course_id and the total resolution time, we observe that for Course ids 1 and 10 the content type of most of the doubts is either Code Problem or Multiple Problem. So the resolution time for them is much higher than the rest."
      ]
    },
    {
      "cell_type": "markdown",
      "metadata": {
        "id": "immnQTU4XLr1",
        "colab_type": "text"
      },
      "source": [
        "We have made another attribute Number of TAs involved in a doubt before its resolution. Let us check if it affects the user rating and the resolution time or not"
      ]
    },
    {
      "cell_type": "code",
      "metadata": {
        "id": "TfTZylUqXIP5",
        "colab_type": "code",
        "outputId": "96489da9-7959-4638-b9db-542cedcd0411",
        "colab": {
          "base_uri": "https://localhost:8080/",
          "height": 34
        }
      },
      "source": [
        "act_doubt_df['TA_ID'].astype('float64').corr(act_doubt_df['user_rating'].astype('float64'))"
      ],
      "execution_count": 0,
      "outputs": [
        {
          "output_type": "execute_result",
          "data": {
            "text/plain": [
              "-0.013194804572152241"
            ]
          },
          "metadata": {
            "tags": []
          },
          "execution_count": 119
        }
      ]
    },
    {
      "cell_type": "markdown",
      "metadata": {
        "id": "LK9mON2iXzZb",
        "colab_type": "text"
      },
      "source": [
        "From the above, we observe that both of them are negatively correlated i.e. they have an inverse relationship. If the number of TAs involved in the doubt are more, then the user rating is less and vice versa i.e. if number of TAs involved less then the user rating is more."
      ]
    },
    {
      "cell_type": "code",
      "metadata": {
        "id": "H5M06CEzZyc1",
        "colab_type": "code",
        "outputId": "8288d114-b7a5-4b5c-cc2e-1a05f89f58ee",
        "colab": {
          "base_uri": "https://localhost:8080/",
          "height": 34
        }
      },
      "source": [
        "act_doubt_df['TA_ID'].astype('float64').corr(act_doubt_df['resolution_time'].astype('float64'))"
      ],
      "execution_count": 0,
      "outputs": [
        {
          "output_type": "execute_result",
          "data": {
            "text/plain": [
              "0.01673772177504448"
            ]
          },
          "metadata": {
            "tags": []
          },
          "execution_count": 120
        }
      ]
    },
    {
      "cell_type": "markdown",
      "metadata": {
        "id": "EqjcXyiFaaBO",
        "colab_type": "text"
      },
      "source": [
        "From the above, we observe that both of them are positively correlated i.e. they have a direct relationship. If the number of TAs involved are more, then the doubt resolution time is also more and if the number of TAs involved are less then the doubt resolution time is less. "
      ]
    }
  ]
}